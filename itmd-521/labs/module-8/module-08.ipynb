{
 "cells": [
  {
   "cell_type": "code",
   "execution_count": null,
   "metadata": {
    "vscode": {
     "languageId": "plaintext"
    }
   },
   "outputs": [],
   "source": [
    "from pyspark import SparkConf\n",
    "from pyspark.sql import SparkSession\n",
    "import os\n",
    "import sys\n",
    "\n",
    "try:\n",
    "    creds_file = (open(f\"/home/{os.getenv('USER')}/creds.txt\", \"r\")).read().strip().split(\",\")\n",
    "    accesskey,secretkey = creds_file[0],creds_file[1]\n",
    "except:\n",
    "    print(\"File not found, you can't access minio\")\n",
    "    accesskey,secretkey = \"\",\"\"\n",
    "\n",
    "# Spark Configuration\n",
    "conf = SparkConf()\n",
    "conf.set('spark.jars.packages', 'org.apache.hadoop:hadoop-aws:3.2.3')\n",
    "conf.set('spark.hadoop.fs.s3a.aws.credentials.provider', 'org.apache.hadoop.fs.s3a.SimpleAWSCredentialsProvider')\n",
    "conf.set('spark.hadoop.fs.s3a.access.key', accesskey)\n",
    "conf.set('spark.hadoop.fs.s3a.secret.key', secretkey)\n",
    "conf.set(\"spark.hadoop.fs.s3a.path.style.access\", \"true\")\n",
    "conf.set(\"spark.hadoop.fs.s3a.impl\", \"org.apache.hadoop.fs.s3a.S3AFileSystem\")\n",
    "conf.set('spark.hadoop.fs.s3a.committer.magic.enabled','true')\n",
    "conf.set('spark.hadoop.fs.s3a.committer.name','magic')\n",
    "conf.set(\"spark.hadoop.fs.s3a.endpoint\", \"http://system54.rice.iit.edu\")\n",
    "conf.setMaster(\"spark://sm.service.consul:7077\")\n",
    "conf.set(\"spark.driver.memory\",\"4g\")\n",
    "conf.set(\"spark.executor.memory\",\"4g\")\n",
    "\n",
    "# Create Spark Session\n",
    "spark = SparkSession.builder.appName(\"my_ap\")\\\n",
    "    .config('spark.driver.host','spark-edge.service.consul').config(conf=conf).getOrCreate()"
   ]
  },
  {
   "cell_type": "code",
   "execution_count": null,
   "metadata": {
    "vscode": {
     "languageId": "plaintext"
    }
   },
   "outputs": [],
   "source": [
    "# Read and Process Data\n",
    "from pyspark.sql.types import *\n",
    "from pyspark.sql.functions import *\n",
    "\n",
    "df = spark.read.csv('s3a://itmd521/50.txt')\n",
    "\n",
    "splitDF = df.withColumn('WeatherStation', df['_c0'].substr(5, 6)) \\\n",
    ".withColumn('WBAN', df['_c0'].substr(11, 5)) \\\n",
    ".withColumn('ObservationDate',to_date(df['_c0'].substr(16,8), 'yyyyMMdd')) \\\n",
    ".withColumn('ObservationHour', df['_c0'].substr(24, 4).cast(IntegerType())) \\\n",
    ".withColumn('Latitude', df['_c0'].substr(29, 6).cast('float') / 1000) \\\n",
    ".withColumn('Longitude', df['_c0'].substr(35, 7).cast('float') / 1000) \\\n",
    ".withColumn('Elevation', df['_c0'].substr(47, 5).cast(IntegerType())) \\\n",
    ".withColumn('WindDirection', df['_c0'].substr(61, 3).cast(IntegerType())) \\\n",
    ".withColumn('WDQualityCode', df['_c0'].substr(64, 1).cast(IntegerType())) \\\n",
    ".withColumn('SkyCeilingHeight', df['_c0'].substr(71, 5).cast(IntegerType())) \\\n",
    ".withColumn('SCQualityCode', df['_c0'].substr(76, 1).cast(IntegerType())) \\\n",
    ".withColumn('VisibilityDistance', df['_c0'].substr(79, 6).cast(IntegerType())) \\\n",
    ".withColumn('VDQualityCode', df['_c0'].substr(86, 1).cast(IntegerType())) \\\n",
    ".withColumn('AirTemperature', df['_c0'].substr(88, 5).cast('float') /10) \\\n",
    ".withColumn('ATQualityCode', df['_c0'].substr(93, 1).cast(IntegerType())) \\\n",
    ".withColumn('DewPoint', df['_c0'].substr(94, 5).cast('float')) \\\n",
    ".withColumn('DPQualityCode', df['_c0'].substr(99, 1).cast(IntegerType())) \\\n",
    ".withColumn('AtmosphericPressure', df['_c0'].substr(100, 5).cast('float')/ 10) \\\n",
    ".withColumn('APQualityCode', df['_c0'].substr(105, 1).cast(IntegerType())).drop('_c0')"
   ]
  },
  {
   "cell_type": "code",
   "execution_count": null,
   "metadata": {
    "vscode": {
     "languageId": "plaintext"
    }
   },
   "outputs": [],
   "source": [
    "# Write to your Minio bucket\n",
    "splitDF.write.mode(\"overwrite\").option(\"header\",\"true\").csv(\"s3a://csreekrishnanpremala/50.csv\")"
   ]
  },
  {
   "cell_type": "code",
   "execution_count": null,
   "metadata": {
    "vscode": {
     "languageId": "plaintext"
    }
   },
   "outputs": [],
   "source": [
    "# Stop Spark Session\n",
    "spark.stop()"
   ]
  }
 ],
 "metadata": {
  "language_info": {
   "name": "python"
  }
 },
 "nbformat": 4,
 "nbformat_minor": 2
}
